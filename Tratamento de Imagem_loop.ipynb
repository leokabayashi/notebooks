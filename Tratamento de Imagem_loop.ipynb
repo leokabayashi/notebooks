{
 "cells": [
  {
   "cell_type": "code",
   "execution_count": null,
   "metadata": {},
   "outputs": [],
   "source": [
    "import numpy as np\n",
    "from PIL import Image\n",
    "import os\n",
    "import cv2 as cv\n",
    "from matplotlib import pyplot as plt"
   ]
  },
  {
   "cell_type": "code",
   "execution_count": null,
   "metadata": {},
   "outputs": [],
   "source": [
    "#square size/positions\n",
    "sq1a = (44,160);\n",
    "sq1b = (79,212);\n",
    "sq2a = (575,160);\n",
    "sq2b = (603,210);\n",
    "sq3a = (70,255);\n",
    "sq3b = (109,300);\n",
    "sq4a = (550,250);\n",
    "sq4b = (582,300);"
   ]
  },
  {
   "cell_type": "code",
   "execution_count": null,
   "metadata": {},
   "outputs": [],
   "source": [
    "for file in os.listdir(\".\"):\n",
    "    if file.endswith(\".jpg\"):\n",
    "        print(os.path.join(\"\", file))\n",
    "        img = cv.imread(file)\n",
    "        img = cv.rectangle(img, sq1a, sq1b, color=(255, 255, 255), thickness=-1) #thickness -1 defines it should be filled\n",
    "        img = cv.rectangle(img, sq2a, sq2b, color=(255,255,255), thickness=-1)\n",
    "        img = cv.rectangle(img, sq3a, sq3b, color=(255,255,255), thickness=-1)\n",
    "        img = cv.rectangle(img, sq4a, sq4b, color=(255,255,255), thickness=-1)\n",
    "        # h = defines how aggressive denoise should be\n",
    "        dst = cv.fastNlMeansDenoising(img, h=30)\n",
    "        img_saved = Image.fromarray(dst, 'RGB')\n",
    "        img_saved.save('denoised/' + file)"
   ]
  },
  {
   "cell_type": "code",
   "execution_count": null,
   "metadata": {},
   "outputs": [],
   "source": [
    "#plt.subplot(121),plt.imshow(img)\n",
    "#plt.subplot(122),plt.imshow(dst)\n",
    "#plt.show()"
   ]
  }
 ],
 "metadata": {
  "kernelspec": {
   "display_name": "Python 3",
   "language": "python",
   "name": "python3"
  },
  "language_info": {
   "codemirror_mode": {
    "name": "ipython",
    "version": 3
   },
   "file_extension": ".py",
   "mimetype": "text/x-python",
   "name": "python",
   "nbconvert_exporter": "python",
   "pygments_lexer": "ipython3",
   "version": "3.5.3"
  }
 },
 "nbformat": 4,
 "nbformat_minor": 4
}
